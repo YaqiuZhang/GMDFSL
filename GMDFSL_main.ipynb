{
 "cells": [
  {
   "cell_type": "code",
   "execution_count": 1,
   "id": "a38924e1",
   "metadata": {},
   "outputs": [
    {
     "name": "stdout",
     "output_type": "stream",
     "text": [
      "WARNING:tensorflow:From D:\\anaconda3\\envs\\py39\\lib\\site-packages\\keras\\src\\losses.py:2976: The name tf.losses.sparse_softmax_cross_entropy is deprecated. Please use tf.compat.v1.losses.sparse_softmax_cross_entropy instead.\n",
      "\n",
      "WARNING:tensorflow:From D:\\anaconda3\\envs\\py39\\lib\\site-packages\\tensorflow_probability\\python\\internal\\backend\\numpy\\_utils.py:48: The name tf.logging.TaskLevelStatusMessage is deprecated. Please use tf.compat.v1.logging.TaskLevelStatusMessage instead.\n",
      "\n",
      "WARNING:tensorflow:From D:\\anaconda3\\envs\\py39\\lib\\site-packages\\tensorflow_probability\\python\\internal\\backend\\numpy\\_utils.py:48: The name tf.control_flow_v2_enabled is deprecated. Please use tf.compat.v1.control_flow_v2_enabled instead.\n",
      "\n"
     ]
    },
    {
     "name": "stderr",
     "output_type": "stream",
     "text": [
      "100%|██████████████████████████████████████████████████████████████████████████████████| 10/10 [00:11<00:00,  1.18s/it]"
     ]
    },
    {
     "name": "stdout",
     "output_type": "stream",
     "text": [
      "c1. 99.76±0.73\n",
      "c2. 65.91±11.93\n",
      "c3. 74.14±7.31\n",
      "c4. 90.20±9.28\n",
      "c5. 76.63±5.97\n",
      "c6. 76.12±7.27\n",
      "c7. 100.00±0.00\n",
      "c8. 98.92±2.07\n",
      "c9. 100.00±0.00\n",
      "c10. 77.12±5.03\n",
      "c11. 75.10±6.32\n",
      "c12. 73.21±14.28\n",
      "c13. 83.89±7.88\n",
      "c14. 94.90±3.16\n",
      "c15. 88.02±6.52\n",
      "c16. 92.39±7.15\n",
      "\n",
      "OA：80.39±1.98\n",
      "AA：85.39±0.98\n",
      "kappa：77.88±2.20\n",
      "time：1.18±0.04\n"
     ]
    },
    {
     "name": "stderr",
     "output_type": "stream",
     "text": [
      "\n"
     ]
    }
   ],
   "source": [
    "\"\"\"\n",
    "@author: Yaqiu Zhang\n",
    "@E-mail: zyq_zyq_q@163.com\n",
    "\"\"\"\n",
    "import time\n",
    "from tqdm import tqdm\n",
    "from gmdfsl import gmdfsl\n",
    "from fsl_il import fsl_il\n",
    "import numpy as np\n",
    "[qq,qq_kappa,iterables,per_class,timee] = [[] for _ in range(5)]\n",
    "[qq2,qq_kappa2,per_class2,] = [[] for _ in range(3)]\n",
    "random_state = [202501,202502,202303,202504,202505,202506,202507,202508,202509,202510]\n",
    "for w in tqdm(range(len(random_state))):\n",
    "    t_start = time.time()\n",
    "    model = gmdfsl(dataname ='ip',per_class_num = 5,random_nu=random_state[w])\n",
    "    gdmrf_result,kappa_score,precision_per_class,v3,vt1,all_img,img_ture  = model.out()\n",
    "    qq.append(max(gdmrf_result)),qq_kappa.append(kappa_score),per_class.append(precision_per_class),\n",
    "    new_feature, new_label ,new_inx = fsl_il(v3,precision_per_class,vt1,all_img,img_ture,percent = 10)#percent为最大增广百分比\n",
    "    gmd_result2,kappa_score2,precision_per_class2,img_plot1 = model.up_model(new_feature, new_label ,new_inx)\n",
    "    qq2.append(max(gmd_result2)),qq_kappa2.append(kappa_score2),per_class2.append(precision_per_class2),\n",
    "    timee.append(time.time()- t_start)\n",
    "\n",
    "\n",
    "array_per_class2 = np.array(per_class2)\n",
    "per_class_means2 = [np.mean(item) for item in per_class2]\n",
    "per_class_mean2 = np.mean(array_per_class2, axis=0)\n",
    "per_class_std2 = np.std(array_per_class2, axis=0)\n",
    "for i, (mean_value2, std_value2) in enumerate(zip(per_class_mean2, per_class_std2)):\n",
    "    print(\"c{:d}. {:.2f}\\u00B1{:.2f}\".format(i+1, mean_value2, std_value2))\n",
    "print(f\"\\nOA：{np.mean(qq2):.2f}\\u00B1{np.std(qq2):.2f}\")\n",
    "print(f\"AA：{np.mean(per_class_means2):.2f}\\u00B1{np.std(per_class_means2):.2f}\")\n",
    "print(f\"kappa：{np.mean(qq_kappa2) * 100:.2f}\\u00B1{np.std(qq_kappa2) * 100:.2f}\")\n",
    "print(f\"time：{np.mean(timee):.2f}\\u00B1{np.std(timee):.2f}\")\n"
   ]
  },
  {
   "cell_type": "code",
   "execution_count": null,
   "id": "086ad5a6",
   "metadata": {},
   "outputs": [],
   "source": []
  }
 ],
 "metadata": {
  "kernelspec": {
   "display_name": "py39",
   "language": "python",
   "name": "py39"
  },
  "language_info": {
   "codemirror_mode": {
    "name": "ipython",
    "version": 3
   },
   "file_extension": ".py",
   "mimetype": "text/x-python",
   "name": "python",
   "nbconvert_exporter": "python",
   "pygments_lexer": "ipython3",
   "version": "3.9.18"
  }
 },
 "nbformat": 4,
 "nbformat_minor": 5
}
